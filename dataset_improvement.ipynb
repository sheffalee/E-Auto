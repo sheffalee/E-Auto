{
  "nbformat": 4,
  "nbformat_minor": 0,
  "metadata": {
    "colab": {
      "provenance": []
    },
    "kernelspec": {
      "name": "python3",
      "display_name": "Python 3"
    },
    "language_info": {
      "name": "python"
    }
  },
  "cells": [
    {
      "cell_type": "markdown",
      "source": [
        "Task 2: Dataset Improvement\n",
        "\n",
        "The data augmentation techniques i have used to improve the dataset are:\n",
        "\n",
        "1.Horizontal Flipping:\n",
        "Horizontal flipping involves mirroring an image along its vertical axis. This augmentation creates a new version of the idea that shows objects from a different perspective, as if seen from the opposite side. It's beneficial when the orientation of objects doesn't affect their identity, such as in object detection tasks. By adding flipped versions of images, the model learns to recognize objects regardless of their left or right orientation.\n",
        "\n",
        "2.Vertical Flipping:\n",
        "Similar to horizontal flipping, vertical flipping mirrors an image along its horizontal axis. This introduces variations in object positions from top to bottom. Vertical flipping can help the model handle scenarios where objects may appear at different heights or orientations.\n",
        "\n",
        "3.Rotation:\n",
        "Rotation augmentation involves rotating an image by a certain angle around its center. This introduces variability in object orientations. By applying rotations, the model becomes more robust to objects that are oriented at different angles. It helps the model generalize better to situations where objects are not aligned perfectly.\n",
        "\n",
        "4.Zooming:\n",
        "Zooming augmentation involves resizing an image to simulate different distances from the camera. This introduces variations in object sizes. Zooming in emphasizes finer details, while zooming out captures a broader view. This helps the model recognize objects at different scales and adapt to scenarios where objects may appear larger or smaller.\n",
        "\n",
        "Some difficulties that i faced were ,\n",
        "\n",
        "1.the images of some car brands were placed in different folders.\n",
        "\n",
        "2.some irrelevant images were present in few of the folders.\n",
        "\n",
        "3.the quality of the images were a little less in some of the images.\n",
        "\n",
        "4.more images were side facing or back facing so i had to remove those from the dataset\n",
        "\n",
        "Dataset Link :https://drive.google.com/drive/folders/1sDahsF51mib27knN6yLpH7Tk8BfLxk_Y?usp=sharing"
      ],
      "metadata": {
        "id": "G_luO8uL_PZ9"
      }
    },
    {
      "cell_type": "code",
      "source": [
        "from google.colab import drive\n",
        "drive.mount('/content/drive')"
      ],
      "metadata": {
        "colab": {
          "base_uri": "https://localhost:8080/"
        },
        "id": "UOgvQP8PhKhX",
        "outputId": "a23d0e61-59ef-476e-cf85-0afe6b23dbde"
      },
      "execution_count": null,
      "outputs": [
        {
          "output_type": "stream",
          "name": "stdout",
          "text": [
            "Drive already mounted at /content/drive; to attempt to forcibly remount, call drive.mount(\"/content/drive\", force_remount=True).\n"
          ]
        }
      ]
    },
    {
      "cell_type": "code",
      "source": [
        "import zipfile\n",
        "import os\n",
        "\n",
        "# Path to the mounted Google Drive directory\n",
        "drive_path = '/content/drive/My Drive/eAuto_dataset/'\n",
        "\n",
        "# Path to the zip file you want to extract\n",
        "zip_file_path = os.path.join(drive_path, 'preprocessed_dataset.zip')  # Specify the actual zip file name\n",
        "\n",
        "# Directory where you want to extract the contents\n",
        "extract_dir = os.path.join(drive_path, 'extracting_preprocessed_dataset/')  # Specify the extraction directory\n",
        "\n",
        "# Create the extraction directory if it doesn't exist\n",
        "os.makedirs(extract_dir, exist_ok=True)\n",
        "\n",
        "# Extract the zip file\n",
        "with zipfile.ZipFile(zip_file_path, 'r') as zip_ref:\n",
        "    zip_ref.extractall(extract_dir)\n",
        "\n",
        "print(f\"Contents extracted to: {extract_dir}\")\n"
      ],
      "metadata": {
        "id": "XkuxsvxyhKj6",
        "colab": {
          "base_uri": "https://localhost:8080/"
        },
        "outputId": "6dc35e96-3a80-4b72-ecc3-1530759fad30"
      },
      "execution_count": null,
      "outputs": [
        {
          "output_type": "stream",
          "name": "stdout",
          "text": [
            "Contents extracted to: /content/drive/My Drive/eAuto_dataset/extracting_preprocessed_dataset/\n"
          ]
        }
      ]
    },
    {
      "cell_type": "code",
      "source": [
        "from PIL import Image, ImageOps, ImageEnhance\n",
        "import os\n",
        "\n",
        "input_folder = '/content/drive/MyDrive/eAuto_dataset/extracting_preprocessed_dataset/photos/Ford'\n",
        "output_folder = '/content/drive/MyDrive/eAuto_dataset/augmented_dataset/Ford'\n",
        "\n",
        "# Create the output folder if it doesn't exist\n",
        "os.makedirs(output_folder, exist_ok=True)\n",
        "\n",
        "# Augmentation parameters\n",
        "rotation_angles = [30, 60, 90, 120, 150, 210, 240, 270, 300, 330]\n",
        "zoom_factors = [0.8, 1.0, 1.2]\n",
        "\n",
        "for image_filename in os.listdir(input_folder):\n",
        "    if image_filename.endswith(('.jpeg', '.webp', '.png','.mpo','.gif')):\n",
        "        image_path = os.path.join(input_folder, image_filename)\n",
        "\n",
        "        # Open the image using PIL\n",
        "        image = Image.open(image_path)\n",
        "\n",
        "        # Horizontal flipping\n",
        "        h_flip = ImageOps.mirror(image)\n",
        "        h_flip.save(os.path.join(output_folder, f'h_flip_{image_filename}'))\n",
        "\n",
        "        # Vertical flipping\n",
        "        v_flip = ImageOps.flip(image)\n",
        "        v_flip.save(os.path.join(output_folder, f'v_flip_{image_filename}'))\n",
        "\n",
        "        # Rotation\n",
        "        for angle in rotation_angles:\n",
        "            rotated = image.rotate(angle)\n",
        "            rotated.save(os.path.join(output_folder, f'rotate_{angle}_{image_filename}'))\n",
        "\n",
        "        # Zooming\n",
        "        for factor in zoom_factors:\n",
        "            zoomed = image.resize((int(image.width * factor), int(image.height * factor)), Image.LANCZOS)\n",
        "            zoomed.save(os.path.join(output_folder, f'zoom_{factor}_{image_filename}'))\n",
        "\n",
        "print(\"Data augmentation completed.\")\n"
      ],
      "metadata": {
        "id": "EhWU7HV-mNPb",
        "colab": {
          "base_uri": "https://localhost:8080/"
        },
        "outputId": "83af4743-ff03-4ff6-857a-44c8ab7f4c42"
      },
      "execution_count": null,
      "outputs": [
        {
          "output_type": "stream",
          "name": "stdout",
          "text": [
            "Data augmentation completed.\n"
          ]
        }
      ]
    },
    {
      "cell_type": "code",
      "source": [
        "from PIL import Image, ImageOps, ImageEnhance\n",
        "import os\n",
        "\n",
        "input_folder = '/content/drive/MyDrive/eAuto_dataset/extracting_preprocessed_dataset/photos/Honday'\n",
        "output_folder = '/content/drive/MyDrive/eAuto_dataset/augmented_dataset/Honday'\n",
        "\n",
        "# Create the output folder if it doesn't exist\n",
        "os.makedirs(output_folder, exist_ok=True)\n",
        "\n",
        "# Augmentation parameters\n",
        "rotation_angles = [30, 60, 90, 120, 150, 210, 240, 270, 300, 330]\n",
        "zoom_factors = [0.8, 1.0, 1.2]\n",
        "\n",
        "for image_filename in os.listdir(input_folder):\n",
        "    if image_filename.endswith(('.jpeg', '.webp', '.png','.gif','.mpo')):\n",
        "        image_path = os.path.join(input_folder, image_filename)\n",
        "\n",
        "        # Open the image using PIL\n",
        "        image = Image.open(image_path)\n",
        "\n",
        "        # Horizontal flipping\n",
        "        h_flip = ImageOps.mirror(image)\n",
        "        h_flip.save(os.path.join(output_folder, f'h_flip_{image_filename}'))\n",
        "\n",
        "        # Vertical flipping\n",
        "        v_flip = ImageOps.flip(image)\n",
        "        v_flip.save(os.path.join(output_folder, f'v_flip_{image_filename}'))\n",
        "\n",
        "        # Rotation\n",
        "        for angle in rotation_angles:\n",
        "            rotated = image.rotate(angle)\n",
        "            rotated.save(os.path.join(output_folder, f'rotate_{angle}_{image_filename}'))\n",
        "\n",
        "        # Zooming\n",
        "        for factor in zoom_factors:\n",
        "            zoomed = image.resize((int(image.width * factor), int(image.height * factor)), Image.LANCZOS)\n",
        "            zoomed.save(os.path.join(output_folder, f'zoom_{factor}_{image_filename}'))\n",
        "\n",
        "print(\"Data augmentation completed.\")\n"
      ],
      "metadata": {
        "id": "p7gYjuP5mNMk",
        "colab": {
          "base_uri": "https://localhost:8080/"
        },
        "outputId": "7e6847e7-a2d1-43af-868d-79b8b3866106"
      },
      "execution_count": null,
      "outputs": [
        {
          "output_type": "stream",
          "name": "stdout",
          "text": [
            "Data augmentation completed.\n"
          ]
        }
      ]
    },
    {
      "cell_type": "code",
      "source": [
        "from PIL import Image, ImageOps, ImageEnhance\n",
        "import os\n",
        "\n",
        "input_folder = '/content/drive/MyDrive/eAuto_dataset/extracting_preprocessed_dataset/photos/Hyundai'\n",
        "output_folder = '/content/drive/MyDrive/eAuto_dataset/augmented_dataset/Hyundai'\n",
        "\n",
        "# Create the output folder if it doesn't exist\n",
        "os.makedirs(output_folder, exist_ok=True)\n",
        "\n",
        "# Augmentation parameters\n",
        "rotation_angles = [30, 60, 90, 120, 150, 210, 240, 270, 300, 330]\n",
        "zoom_factors = [0.8, 1.0, 1.2]\n",
        "\n",
        "for image_filename in os.listdir(input_folder):\n",
        "    if image_filename.endswith(('.jpeg', '.webp', '.png','.gif','.mpo')):\n",
        "        image_path = os.path.join(input_folder, image_filename)\n",
        "\n",
        "        # Open the image using PIL\n",
        "        image = Image.open(image_path)\n",
        "\n",
        "        # Horizontal flipping\n",
        "        h_flip = ImageOps.mirror(image)\n",
        "        h_flip.save(os.path.join(output_folder, f'h_flip_{image_filename}'))\n",
        "\n",
        "        # Vertical flipping\n",
        "        v_flip = ImageOps.flip(image)\n",
        "        v_flip.save(os.path.join(output_folder, f'v_flip_{image_filename}'))\n",
        "\n",
        "        # Rotation\n",
        "        for angle in rotation_angles:\n",
        "            rotated = image.rotate(angle)\n",
        "            rotated.save(os.path.join(output_folder, f'rotate_{angle}_{image_filename}'))\n",
        "\n",
        "        # Zooming\n",
        "        for factor in zoom_factors:\n",
        "            zoomed = image.resize((int(image.width * factor), int(image.height * factor)), Image.LANCZOS)\n",
        "            zoomed.save(os.path.join(output_folder, f'zoom_{factor}_{image_filename}'))\n",
        "\n",
        "print(\"Data augmentation completed.\")\n"
      ],
      "metadata": {
        "id": "wFXXhAT-mNJ7",
        "colab": {
          "base_uri": "https://localhost:8080/"
        },
        "outputId": "422bf854-56a7-40f5-c453-f002ed3e45c3"
      },
      "execution_count": null,
      "outputs": [
        {
          "output_type": "stream",
          "name": "stdout",
          "text": [
            "Data augmentation completed.\n"
          ]
        }
      ]
    },
    {
      "cell_type": "code",
      "source": [
        "from PIL import Image, ImageOps, ImageEnhance\n",
        "import os\n",
        "\n",
        "input_folder = '/content/drive/MyDrive/eAuto_dataset/extracting_preprocessed_dataset/photos/Nissan'\n",
        "output_folder = '/content/drive/MyDrive/eAuto_dataset/augmented_dataset/Nissan'\n",
        "\n",
        "# Create the output folder if it doesn't exist\n",
        "os.makedirs(output_folder, exist_ok=True)\n",
        "\n",
        "# Augmentation parameters\n",
        "rotation_angles = [30, 60, 90, 120, 150, 210, 240, 270, 300, 330]\n",
        "zoom_factors = [0.8, 1.0, 1.2]\n",
        "\n",
        "for image_filename in os.listdir(input_folder):\n",
        "    if image_filename.endswith(('.jpeg', '.webp', '.png','.gif','.mpo')):\n",
        "        image_path = os.path.join(input_folder, image_filename)\n",
        "\n",
        "        # Open the image using PIL\n",
        "        image = Image.open(image_path)\n",
        "\n",
        "        # Horizontal flipping\n",
        "        h_flip = ImageOps.mirror(image)\n",
        "        h_flip.save(os.path.join(output_folder, f'h_flip_{image_filename}'))\n",
        "\n",
        "        # Vertical flipping\n",
        "        v_flip = ImageOps.flip(image)\n",
        "        v_flip.save(os.path.join(output_folder, f'v_flip_{image_filename}'))\n",
        "\n",
        "        # Rotation\n",
        "        for angle in rotation_angles:\n",
        "            rotated = image.rotate(angle)\n",
        "            rotated.save(os.path.join(output_folder, f'rotate_{angle}_{image_filename}'))\n",
        "\n",
        "        # Zooming\n",
        "        for factor in zoom_factors:\n",
        "            zoomed = image.resize((int(image.width * factor), int(image.height * factor)), Image.LANCZOS)\n",
        "            zoomed.save(os.path.join(output_folder, f'zoom_{factor}_{image_filename}'))\n",
        "\n",
        "print(\"Data augmentation completed.\")\n"
      ],
      "metadata": {
        "id": "vaUN8n5ImNHC",
        "colab": {
          "base_uri": "https://localhost:8080/"
        },
        "outputId": "602f0a1a-f64b-48b1-9f62-465b082c8311"
      },
      "execution_count": null,
      "outputs": [
        {
          "output_type": "stream",
          "name": "stdout",
          "text": [
            "Data augmentation completed.\n"
          ]
        }
      ]
    },
    {
      "cell_type": "code",
      "source": [
        "from PIL import Image, ImageOps, ImageEnhance\n",
        "import os\n",
        "\n",
        "input_folder = '/content/drive/MyDrive/eAuto_dataset/extracting_preprocessed_dataset/photos/Renault'\n",
        "output_folder = '/content/drive/MyDrive/eAuto_dataset/augmented_dataset/Renault'\n",
        "\n",
        "# Create the output folder if it doesn't exist\n",
        "os.makedirs(output_folder, exist_ok=True)\n",
        "\n",
        "# Augmentation parameters\n",
        "rotation_angles = [30, 60, 90, 120, 150, 210, 240, 270, 300, 330]\n",
        "zoom_factors = [0.8, 1.0, 1.2]\n",
        "\n",
        "for image_filename in os.listdir(input_folder):\n",
        "    if image_filename.endswith(('.jpeg', '.webp', '.png','.gif','.mpo')):\n",
        "        image_path = os.path.join(input_folder, image_filename)\n",
        "\n",
        "        # Open the image using PIL\n",
        "        image = Image.open(image_path)\n",
        "\n",
        "        # Horizontal flipping\n",
        "        h_flip = ImageOps.mirror(image)\n",
        "        h_flip.save(os.path.join(output_folder, f'h_flip_{image_filename}'))\n",
        "\n",
        "        # Vertical flipping\n",
        "        v_flip = ImageOps.flip(image)\n",
        "        v_flip.save(os.path.join(output_folder, f'v_flip_{image_filename}'))\n",
        "\n",
        "        # Rotation\n",
        "        for angle in rotation_angles:\n",
        "            rotated = image.rotate(angle)\n",
        "            rotated.save(os.path.join(output_folder, f'rotate_{angle}_{image_filename}'))\n",
        "\n",
        "        # Zooming\n",
        "        for factor in zoom_factors:\n",
        "            zoomed = image.resize((int(image.width * factor), int(image.height * factor)), Image.LANCZOS)\n",
        "            zoomed.save(os.path.join(output_folder, f'zoom_{factor}_{image_filename}'))\n",
        "\n",
        "print(\"Data augmentation completed.\")\n"
      ],
      "metadata": {
        "id": "2tHydsbqmNEc",
        "colab": {
          "base_uri": "https://localhost:8080/"
        },
        "outputId": "4b8e979e-c480-4123-d9f0-ab7f1e884461"
      },
      "execution_count": null,
      "outputs": [
        {
          "output_type": "stream",
          "name": "stdout",
          "text": [
            "Data augmentation completed.\n"
          ]
        }
      ]
    },
    {
      "cell_type": "code",
      "source": [
        "from PIL import Image, ImageOps, ImageEnhance\n",
        "import os\n",
        "\n",
        "input_folder = '/content/drive/MyDrive/eAuto_dataset/extracting_preprocessed_dataset/photos/Suzuki'\n",
        "output_folder = '/content/drive/MyDrive/eAuto_dataset/augmented_dataset/Suzuki'\n",
        "\n",
        "# Create the output folder if it doesn't exist\n",
        "os.makedirs(output_folder, exist_ok=True)\n",
        "\n",
        "# Augmentation parameters\n",
        "rotation_angles = [30, 60, 90, 120, 150, 210, 240, 270, 300, 330]\n",
        "zoom_factors = [0.8, 1.0, 1.2]\n",
        "\n",
        "for image_filename in os.listdir(input_folder):\n",
        "    if image_filename.endswith(('.jpeg', '.webp', '.png','.gif','.mpo')):\n",
        "        image_path = os.path.join(input_folder, image_filename)\n",
        "\n",
        "        # Open the image using PIL\n",
        "        image = Image.open(image_path)\n",
        "\n",
        "        # Horizontal flipping\n",
        "        h_flip = ImageOps.mirror(image)\n",
        "        h_flip.save(os.path.join(output_folder, f'h_flip_{image_filename}'))\n",
        "\n",
        "        # Vertical flipping\n",
        "        v_flip = ImageOps.flip(image)\n",
        "        v_flip.save(os.path.join(output_folder, f'v_flip_{image_filename}'))\n",
        "\n",
        "        # Rotation\n",
        "        for angle in rotation_angles:\n",
        "            rotated = image.rotate(angle)\n",
        "            rotated.save(os.path.join(output_folder, f'rotate_{angle}_{image_filename}'))\n",
        "\n",
        "        # Zooming\n",
        "        for factor in zoom_factors:\n",
        "            zoomed = image.resize((int(image.width * factor), int(image.height * factor)), Image.LANCZOS)\n",
        "            zoomed.save(os.path.join(output_folder, f'zoom_{factor}_{image_filename}'))\n",
        "\n",
        "print(\"Data augmentation completed.\")\n"
      ],
      "metadata": {
        "colab": {
          "base_uri": "https://localhost:8080/"
        },
        "id": "E-DK484bmNBl",
        "outputId": "cea2a67b-f236-4eae-f9aa-1f3690da2b81"
      },
      "execution_count": null,
      "outputs": [
        {
          "output_type": "stream",
          "name": "stdout",
          "text": [
            "Data augmentation completed.\n"
          ]
        }
      ]
    },
    {
      "cell_type": "code",
      "source": [
        "from PIL import Image, ImageOps, ImageEnhance\n",
        "import os\n",
        "\n",
        "input_folder = '/content/drive/MyDrive/eAuto_dataset/extracting_preprocessed_dataset/photos/Tata'\n",
        "output_folder = '/content/drive/MyDrive/eAuto_dataset/augmented_dataset/Tata'\n",
        "\n",
        "# Create the output folder if it doesn't exist\n",
        "os.makedirs(output_folder, exist_ok=True)\n",
        "\n",
        "# Augmentation parameters\n",
        "rotation_angles = [30, 60, 90, 120, 150, 210, 240, 270, 300, 330]\n",
        "zoom_factors = [0.8, 1.0, 1.2]\n",
        "\n",
        "for image_filename in os.listdir(input_folder):\n",
        "    if image_filename.endswith(('.jpeg', '.webp', '.png','.gif','.mpo')):\n",
        "        image_path = os.path.join(input_folder, image_filename)\n",
        "\n",
        "        # Open the image using PIL\n",
        "        image = Image.open(image_path)\n",
        "\n",
        "        # Horizontal flipping\n",
        "        h_flip = ImageOps.mirror(image)\n",
        "        h_flip.save(os.path.join(output_folder, f'h_flip_{image_filename}'))\n",
        "\n",
        "        # Vertical flipping\n",
        "        v_flip = ImageOps.flip(image)\n",
        "        v_flip.save(os.path.join(output_folder, f'v_flip_{image_filename}'))\n",
        "\n",
        "        # Rotation\n",
        "        for angle in rotation_angles:\n",
        "            rotated = image.rotate(angle)\n",
        "            rotated.save(os.path.join(output_folder, f'rotate_{angle}_{image_filename}'))\n",
        "\n",
        "        # Zooming\n",
        "        for factor in zoom_factors:\n",
        "            zoomed = image.resize((int(image.width * factor), int(image.height * factor)), Image.LANCZOS)\n",
        "            zoomed.save(os.path.join(output_folder, f'zoom_{factor}_{image_filename}'))\n",
        "\n",
        "print(\"Data augmentation completed.\")\n"
      ],
      "metadata": {
        "colab": {
          "base_uri": "https://localhost:8080/"
        },
        "id": "4X8QXYttmM_C",
        "outputId": "34955326-1434-4eaf-be15-e1282e60b804"
      },
      "execution_count": null,
      "outputs": [
        {
          "output_type": "stream",
          "name": "stdout",
          "text": [
            "Data augmentation completed.\n"
          ]
        }
      ]
    },
    {
      "cell_type": "code",
      "source": [
        "from PIL import Image, ImageOps, ImageEnhance\n",
        "import os\n",
        "\n",
        "input_folder = '/content/drive/MyDrive/eAuto_dataset/extracting_preprocessed_dataset/photos/Toyota'\n",
        "output_folder = '/content/drive/MyDrive/eAuto_dataset/augmented_dataset/Toyota'\n",
        "\n",
        "# Create the output folder if it doesn't exist\n",
        "os.makedirs(output_folder, exist_ok=True)\n",
        "\n",
        "# Augmentation parameters\n",
        "rotation_angles = [30, 60, 90, 120, 150, 210, 240, 270, 300, 330]\n",
        "zoom_factors = [0.8, 1.0, 1.2]\n",
        "\n",
        "for image_filename in os.listdir(input_folder):\n",
        "    if image_filename.endswith(('.jpeg', '.webp', '.png','.gif','.mpo')):\n",
        "        image_path = os.path.join(input_folder, image_filename)\n",
        "\n",
        "        # Open the image using PIL\n",
        "        image = Image.open(image_path)\n",
        "\n",
        "        # Horizontal flipping\n",
        "        h_flip = ImageOps.mirror(image)\n",
        "        h_flip.save(os.path.join(output_folder, f'h_flip_{image_filename}'))\n",
        "\n",
        "        # Vertical flipping\n",
        "        v_flip = ImageOps.flip(image)\n",
        "        v_flip.save(os.path.join(output_folder, f'v_flip_{image_filename}'))\n",
        "\n",
        "        # Rotation\n",
        "        for angle in rotation_angles:\n",
        "            rotated = image.rotate(angle)\n",
        "            rotated.save(os.path.join(output_folder, f'rotate_{angle}_{image_filename}'))\n",
        "\n",
        "        # Zooming\n",
        "        for factor in zoom_factors:\n",
        "            zoomed = image.resize((int(image.width * factor), int(image.height * factor)), Image.LANCZOS)\n",
        "            zoomed.save(os.path.join(output_folder, f'zoom_{factor}_{image_filename}'))\n",
        "\n",
        "print(\"Data augmentation completed.\")\n"
      ],
      "metadata": {
        "colab": {
          "base_uri": "https://localhost:8080/"
        },
        "id": "pKz-vC8qmM8O",
        "outputId": "215b438a-b962-4358-f226-2095f0f5192c"
      },
      "execution_count": null,
      "outputs": [
        {
          "output_type": "stream",
          "name": "stdout",
          "text": [
            "Data augmentation completed.\n"
          ]
        }
      ]
    },
    {
      "cell_type": "code",
      "source": [
        "from PIL import Image, ImageOps, ImageEnhance\n",
        "import os\n",
        "\n",
        "input_folder = '/content/drive/MyDrive/eAuto_dataset/extracting_preprocessed_dataset/photos/Volkswagen'\n",
        "output_folder = '/content/drive/MyDrive/eAuto_dataset/augmented_dataset/Volkswagen'\n",
        "\n",
        "# Create the output folder if it doesn't exist\n",
        "os.makedirs(output_folder, exist_ok=True)\n",
        "\n",
        "# Augmentation parameters\n",
        "rotation_angles = [30, 60, 90, 120, 150, 210, 240, 270, 300, 330]\n",
        "zoom_factors = [0.8, 1.0, 1.2]\n",
        "\n",
        "for image_filename in os.listdir(input_folder):\n",
        "    if image_filename.endswith(('.jpeg', '.webp', '.png','.gif','.mpo')):\n",
        "        image_path = os.path.join(input_folder, image_filename)\n",
        "\n",
        "        # Open the image using PIL\n",
        "        image = Image.open(image_path)\n",
        "\n",
        "        # Horizontal flipping\n",
        "        h_flip = ImageOps.mirror(image)\n",
        "        h_flip.save(os.path.join(output_folder, f'h_flip_{image_filename}'))\n",
        "\n",
        "        # Vertical flipping\n",
        "        v_flip = ImageOps.flip(image)\n",
        "        v_flip.save(os.path.join(output_folder, f'v_flip_{image_filename}'))\n",
        "\n",
        "        # Rotation\n",
        "        for angle in rotation_angles:\n",
        "            rotated = image.rotate(angle)\n",
        "            rotated.save(os.path.join(output_folder, f'rotate_{angle}_{image_filename}'))\n",
        "\n",
        "        # Zooming\n",
        "        for factor in zoom_factors:\n",
        "            zoomed = image.resize((int(image.width * factor), int(image.height * factor)), Image.LANCZOS)\n",
        "            zoomed.save(os.path.join(output_folder, f'zoom_{factor}_{image_filename}'))\n",
        "\n",
        "print(\"Data augmentation completed.\")\n"
      ],
      "metadata": {
        "colab": {
          "base_uri": "https://localhost:8080/"
        },
        "id": "PMBssSaWmM5r",
        "outputId": "e1b06cdb-fa69-4ab5-b6ac-a1efe0e91b41"
      },
      "execution_count": null,
      "outputs": [
        {
          "output_type": "stream",
          "name": "stdout",
          "text": [
            "Data augmentation completed.\n"
          ]
        }
      ]
    },
    {
      "cell_type": "code",
      "source": [
        "import os\n",
        "\n",
        "# Specify the path to the folder containing images\n",
        "image_folder1 = '/content/drive/MyDrive/eAuto_dataset/extracting_preprocessed_dataset/photos/Ford'\n",
        "image_folder2 = '/content/drive/MyDrive/eAuto_dataset/extracting_preprocessed_dataset/photos/Honday'\n",
        "image_folder3 = '/content/drive/MyDrive/eAuto_dataset/extracting_preprocessed_dataset/photos/Hyundai'\n",
        "image_folder4= '/content/drive/MyDrive/eAuto_dataset/extracting_preprocessed_dataset/photos/Nissan'\n",
        "image_folder5 = '/content/drive/MyDrive/eAuto_dataset/extracting_preprocessed_dataset/photos/Renault'\n",
        "image_folder6 = '/content/drive/MyDrive/eAuto_dataset/extracting_preprocessed_dataset/photos/Suzuki'\n",
        "image_folder7 = '/content/drive/MyDrive/eAuto_dataset/extracting_preprocessed_dataset/photos/Tata'\n",
        "image_folder8 = '/content/drive/MyDrive/eAuto_dataset/extracting_preprocessed_dataset/photos/Toyota'\n",
        "image_folder9 = '/content/drive/MyDrive/eAuto_dataset/extracting_preprocessed_dataset/photos/Volkswagen'\n",
        "\n",
        "\n",
        "# List all files in the folder\n",
        "files1 = os.listdir(image_folder1)\n",
        "files2 = os.listdir(image_folder2)\n",
        "files3 = os.listdir(image_folder3)\n",
        "files4 = os.listdir(image_folder4)\n",
        "files5 = os.listdir(image_folder5)\n",
        "files6 = os.listdir(image_folder6)\n",
        "files7 = os.listdir(image_folder7)\n",
        "files8 = os.listdir(image_folder8)\n",
        "files9 = os.listdir(image_folder9)\n",
        "\n",
        "\n",
        "# Filter files with specific image extensions\n",
        "image_extensions = ['.jpg', '.jpeg', '.png', '.gif', '.bmp']\n",
        "image_files1 = [file for file in files1 if os.path.splitext(file)[1].lower() in image_extensions]\n",
        "image_files2 = [file for file in files2 if os.path.splitext(file)[1].lower() in image_extensions]\n",
        "image_files3 = [file for file in files3 if os.path.splitext(file)[1].lower() in image_extensions]\n",
        "image_files4 = [file for file in files4 if os.path.splitext(file)[1].lower() in image_extensions]\n",
        "image_files5 = [file for file in files5 if os.path.splitext(file)[1].lower() in image_extensions]\n",
        "image_files6 = [file for file in files6 if os.path.splitext(file)[1].lower() in image_extensions]\n",
        "image_files7 = [file for file in files7 if os.path.splitext(file)[1].lower() in image_extensions]\n",
        "image_files8 = [file for file in files8 if os.path.splitext(file)[1].lower() in image_extensions]\n",
        "image_files9 = [file for file in files9 if os.path.splitext(file)[1].lower() in image_extensions]\n",
        "\n",
        "\n",
        "# Count the number of image files\n",
        "num_images1 = len(image_files1)\n",
        "num_images2 = len(image_files2)\n",
        "num_images3 = len(image_files3)\n",
        "num_images4 = len(image_files4)\n",
        "num_images5 = len(image_files5)\n",
        "num_images6 = len(image_files6)\n",
        "num_images7 = len(image_files7)\n",
        "num_images8 = len(image_files8)\n",
        "num_images9 = len(image_files9)\n",
        "\n",
        "print(f\"Before data augmentation\")\n",
        "print(f\"Number of images in the folder - Ford: {num_images1}\")\n",
        "print(f\"Number of images in the folder - Honday: {num_images2}\")\n",
        "print(f\"Number of images in the folder - Hyundai: {num_images3}\")\n",
        "print(f\"Number of images in the folder - Nissan: {num_images4}\")\n",
        "print(f\"Number of images in the folder - Renault: {num_images5}\")\n",
        "print(f\"Number of images in the folder - Suzuki: {num_images6}\")\n",
        "print(f\"Number of images in the folder - Tata: {num_images7}\")\n",
        "print(f\"Number of images in the folder - Toyota: {num_images8}\")\n",
        "print(f\"Number of images in the folder - Volkswagen: {num_images9}\")\n",
        "\n"
      ],
      "metadata": {
        "id": "3UeLFKaxmM23",
        "colab": {
          "base_uri": "https://localhost:8080/"
        },
        "outputId": "ecdfb6e6-833c-4124-f83e-ac238681e3dd"
      },
      "execution_count": null,
      "outputs": [
        {
          "output_type": "stream",
          "name": "stdout",
          "text": [
            "Before data augmentation\n",
            "Number of images in the folder - Ford: 405\n",
            "Number of images in the folder - Honday: 34\n",
            "Number of images in the folder - Hyundai: 434\n",
            "Number of images in the folder - Nissan: 223\n",
            "Number of images in the folder - Renault: 329\n",
            "Number of images in the folder - Suzuki: 228\n",
            "Number of images in the folder - Tata: 227\n",
            "Number of images in the folder - Toyota: 262\n",
            "Number of images in the folder - Volkswagen: 215\n"
          ]
        }
      ]
    },
    {
      "cell_type": "code",
      "source": [
        "import os\n",
        "\n",
        "# Specify the path to the folder containing images\n",
        "image_folder1 = '/content/drive/MyDrive/eAuto_dataset/augmented_dataset/Ford'\n",
        "image_folder2 = '/content/drive/MyDrive/eAuto_dataset/augmented_dataset/Honday'\n",
        "image_folder3 = '/content/drive/MyDrive/eAuto_dataset/augmented_dataset/Hyundai'\n",
        "image_folder4= '/content/drive/MyDrive/eAuto_dataset/augmented_dataset/Nissan'\n",
        "image_folder5 = '/content/drive/MyDrive/eAuto_dataset/augmented_dataset/Renault'\n",
        "image_folder6 = '/content/drive/MyDrive/eAuto_dataset/augmented_dataset/Suzuki'\n",
        "image_folder7 = '/content/drive/MyDrive/eAuto_dataset/augmented_dataset/Tata'\n",
        "image_folder8 = '/content/drive/MyDrive/eAuto_dataset/augmented_dataset/Toyota'\n",
        "image_folder9 = '/content/drive/MyDrive/eAuto_dataset/augmented_dataset/Volkswagen'\n",
        "\n",
        "\n",
        "# List all files in the folder\n",
        "files1 = os.listdir(image_folder1)\n",
        "files2 = os.listdir(image_folder2)\n",
        "files3 = os.listdir(image_folder3)\n",
        "files4 = os.listdir(image_folder4)\n",
        "files5 = os.listdir(image_folder5)\n",
        "files6 = os.listdir(image_folder6)\n",
        "files7 = os.listdir(image_folder7)\n",
        "files8 = os.listdir(image_folder8)\n",
        "files9 = os.listdir(image_folder9)\n",
        "\n",
        "\n",
        "# Filter files with specific image extensions\n",
        "image_extensions = ['.jpg', '.jpeg', '.png', '.gif', '.bmp']\n",
        "image_files1 = [file for file in files1 if os.path.splitext(file)[1].lower() in image_extensions]\n",
        "image_files2 = [file for file in files2 if os.path.splitext(file)[1].lower() in image_extensions]\n",
        "image_files3 = [file for file in files3 if os.path.splitext(file)[1].lower() in image_extensions]\n",
        "image_files4 = [file for file in files4 if os.path.splitext(file)[1].lower() in image_extensions]\n",
        "image_files5 = [file for file in files5 if os.path.splitext(file)[1].lower() in image_extensions]\n",
        "image_files6 = [file for file in files6 if os.path.splitext(file)[1].lower() in image_extensions]\n",
        "image_files7 = [file for file in files7 if os.path.splitext(file)[1].lower() in image_extensions]\n",
        "image_files8 = [file for file in files8 if os.path.splitext(file)[1].lower() in image_extensions]\n",
        "image_files9 = [file for file in files9 if os.path.splitext(file)[1].lower() in image_extensions]\n",
        "\n",
        "\n",
        "# Count the number of image files\n",
        "num_images1 = len(image_files1)\n",
        "num_images2 = len(image_files2)\n",
        "num_images3 = len(image_files3)\n",
        "num_images4 = len(image_files4)\n",
        "num_images5 = len(image_files5)\n",
        "num_images6 = len(image_files6)\n",
        "num_images7 = len(image_files7)\n",
        "num_images8 = len(image_files8)\n",
        "num_images9 = len(image_files9)\n",
        "\n",
        "print(f\"After data augmentation\")\n",
        "print(f\"Number of images in the folder - Ford: {num_images1}\")\n",
        "print(f\"Number of images in the folder - Honday: {num_images2}\")\n",
        "print(f\"Number of images in the folder - Hyundai: {num_images3}\")\n",
        "print(f\"Number of images in the folder - Nissan: {num_images4}\")\n",
        "print(f\"Number of images in the folder - Renault: {num_images5}\")\n",
        "print(f\"Number of images in the folder - Suzuki: {num_images6}\")\n",
        "print(f\"Number of images in the folder - Tata: {num_images7}\")\n",
        "print(f\"Number of images in the folder - Toyota: {num_images8}\")\n",
        "print(f\"Number of images in the folder - Volkswagen: {num_images9}\")\n",
        "\n"
      ],
      "metadata": {
        "id": "8JxdAzWmmM0T",
        "colab": {
          "base_uri": "https://localhost:8080/"
        },
        "outputId": "826f27c9-50fb-4ab7-ae92-5529b4c2c003"
      },
      "execution_count": null,
      "outputs": [
        {
          "output_type": "stream",
          "name": "stdout",
          "text": [
            "After data augmentation\n",
            "Number of images in the folder - Ford: 6075\n",
            "Number of images in the folder - Honday: 510\n",
            "Number of images in the folder - Hyundai: 6510\n",
            "Number of images in the folder - Nissan: 3345\n",
            "Number of images in the folder - Renault: 4935\n",
            "Number of images in the folder - Suzuki: 3420\n",
            "Number of images in the folder - Tata: 3405\n",
            "Number of images in the folder - Toyota: 3930\n",
            "Number of images in the folder - Volkswagen: 3225\n"
          ]
        }
      ]
    }
  ]
}
